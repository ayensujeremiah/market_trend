{
 "cells": [
  {
   "cell_type": "markdown",
   "metadata": {},
   "source": [
    "### Load API_KEYS, Merge and Preprocess Datasets"
   ]
  },
  {
   "cell_type": "code",
   "execution_count": 21,
   "metadata": {},
   "outputs": [],
   "source": [
    " \n",
    "import os\n",
    "from dotenv import load_dotenv\n",
    "import openai\n",
    "import numpy as np\n",
    "import json\n",
    "from sklearn.feature_extraction.text import TfidfVectorizer\n",
    "from sklearn.cluster import KMeans\n",
    "from sklearn.metrics import silhouette_score\n",
    "import json\n",
    "import matplotlib.pyplot as plt\n",
    "\n",
    "load_dotenv()\n",
    "\n",
    "openai_api_key = os.getenv('OPENAI_API_KEY')\n",
    "\n",
    "\n",
    "openai.api_key = openai_api_key"
   ]
  },
  {
   "cell_type": "code",
   "execution_count": 22,
   "metadata": {},
   "outputs": [],
   "source": [
    "import pandas as pd\n",
    "\n",
    "azure_marketplace = pd.read_csv('./Data/Azure marketplace growth.csv')\n",
    "aws_marketplace = pd.read_csv('./Data/Aws marketplace growth.csv')\n",
    "chatgpt_store_growth = pd.read_csv('./Data/ChatGPT Store growth.csv')\n",
    "github_marketplace = pd.read_csv('./Data/Github marketplace growth.csv')\n",
    "github_repo_stars_growth = pd.read_csv('./Data/Github repo stars growth.csv')\n",
    "google_workspace_marketplace = pd.read_csv('./Data/Google Workspace Marketplace.csv')\n",
    "salesforce_marketplace = pd.read_csv('./Data/Salesforce Marketplace growth.csv')\n",
    "shopify_marketplace = pd.read_csv('./Data/Shopify marketplace growth.csv')\n",
    "visual_studio_marketplace = pd.read_csv('./Data/Visual Studio Marketplace Growth.csv')\n",
    "\n",
    "\n",
    "\n",
    "\n",
    "\n",
    "\n"
   ]
  },
  {
   "cell_type": "code",
   "execution_count": 23,
   "metadata": {},
   "outputs": [],
   "source": [
    "datasets = [\n",
    "    azure_marketplace, aws_marketplace, chatgpt_store_growth, github_marketplace, \n",
    "    github_repo_stars_growth, google_workspace_marketplace, salesforce_marketplace, \n",
    "    shopify_marketplace, visual_studio_marketplace\n",
    "]\n",
    "\n"
   ]
  },
  {
   "cell_type": "code",
   "execution_count": 24,
   "metadata": {},
   "outputs": [],
   "source": [
    "unique_datasets = []\n",
    "for dataset in datasets:\n",
    "    if not any(dataset.equals(existing) for existing in unique_datasets):\n",
    "        unique_datasets.append(dataset)"
   ]
  },
  {
   "cell_type": "code",
   "execution_count": 25,
   "metadata": {},
   "outputs": [],
   "source": [
    "combined_data = pd.concat(unique_datasets, ignore_index=True)\n",
    "\n",
    "\n",
    "cleaned_data = combined_data.drop_duplicates()\n",
    "\n",
    "\n",
    "cleaned_data.to_csv(\"cleaned_marketplace_data.csv\", index=False)\n",
    "\n"
   ]
  },
  {
   "cell_type": "code",
   "execution_count": 26,
   "metadata": {},
   "outputs": [
    {
     "name": "stdout",
     "output_type": "stream",
     "text": [
      "<class 'pandas.core.frame.DataFrame'>\n",
      "Index: 17757 entries, 0 to 17866\n",
      "Data columns (total 11 columns):\n",
      " #   Column               Non-Null Count  Dtype  \n",
      "---  ------               --------------  -----  \n",
      " 0   name                 17757 non-null  object \n",
      " 1   url                  17355 non-null  object \n",
      " 2   last_month_installs  17757 non-null  float64\n",
      " 3   this_month_installs  17757 non-null  float64\n",
      " 4   installs_m_m_growth  17757 non-null  float64\n",
      " 5   last_month_multiple  17740 non-null  float64\n",
      " 6   description          17757 non-null  object \n",
      " 7   domain               17757 non-null  object \n",
      " 8   last_month_stars     17757 non-null  float64\n",
      " 9   this_month_stars     17757 non-null  float64\n",
      " 10  stars_m_m_growth     17757 non-null  float64\n",
      "dtypes: float64(7), object(4)\n",
      "memory usage: 1.6+ MB\n"
     ]
    },
    {
     "name": "stderr",
     "output_type": "stream",
     "text": [
      "/var/folders/7b/cj72_d7j6fz976klb3g42_ph0000gn/T/ipykernel_15936/846499854.py:1: SettingWithCopyWarning: \n",
      "A value is trying to be set on a copy of a slice from a DataFrame\n",
      "\n",
      "See the caveats in the documentation: https://pandas.pydata.org/pandas-docs/stable/user_guide/indexing.html#returning-a-view-versus-a-copy\n",
      "  cleaned_data.fillna({\n",
      "/var/folders/7b/cj72_d7j6fz976klb3g42_ph0000gn/T/ipykernel_15936/846499854.py:13: SettingWithCopyWarning: \n",
      "A value is trying to be set on a copy of a slice from a DataFrame.\n",
      "Try using .loc[row_indexer,col_indexer] = value instead\n",
      "\n",
      "See the caveats in the documentation: https://pandas.pydata.org/pandas-docs/stable/user_guide/indexing.html#returning-a-view-versus-a-copy\n",
      "  cleaned_data['name'] = cleaned_data['name'].str.strip()\n",
      "/var/folders/7b/cj72_d7j6fz976klb3g42_ph0000gn/T/ipykernel_15936/846499854.py:14: SettingWithCopyWarning: \n",
      "A value is trying to be set on a copy of a slice from a DataFrame.\n",
      "Try using .loc[row_indexer,col_indexer] = value instead\n",
      "\n",
      "See the caveats in the documentation: https://pandas.pydata.org/pandas-docs/stable/user_guide/indexing.html#returning-a-view-versus-a-copy\n",
      "  cleaned_data['description'] = cleaned_data['description'].str.strip()\n",
      "/var/folders/7b/cj72_d7j6fz976klb3g42_ph0000gn/T/ipykernel_15936/846499854.py:15: SettingWithCopyWarning: \n",
      "A value is trying to be set on a copy of a slice from a DataFrame.\n",
      "Try using .loc[row_indexer,col_indexer] = value instead\n",
      "\n",
      "See the caveats in the documentation: https://pandas.pydata.org/pandas-docs/stable/user_guide/indexing.html#returning-a-view-versus-a-copy\n",
      "  cleaned_data['domain'] = cleaned_data['domain'].str.strip()\n"
     ]
    }
   ],
   "source": [
    "\n",
    "\n",
    "cleaned_data.fillna({\n",
    "    'last_month_installs': 0,\n",
    "    'this_month_installs': 0,\n",
    "    'installs_m_m_growth': 0,\n",
    "    'description': 'Unknown',\n",
    "    'domain': 'Unknown',\n",
    "    'last_month_stars': 0,\n",
    "    'this_month_stars': 0,\n",
    "    'stars_m_m_growth': 0,\n",
    "}, inplace=True)\n",
    "\n",
    "cleaned_data['name'] = cleaned_data['name'].str.strip()\n",
    "cleaned_data['description'] = cleaned_data['description'].str.strip()\n",
    "cleaned_data['domain'] = cleaned_data['domain'].str.strip()\n",
    "\n",
    "\n",
    "cleaned_data.info()\n",
    "\n",
    "output_path = \"cleaned_marketplace_data.csv\"\n",
    "cleaned_data.to_csv(output_path, index=False)\n",
    "\n",
    "\n",
    "\n"
   ]
  },
  {
   "cell_type": "markdown",
   "metadata": {},
   "source": [
    "### Perform Clustering "
   ]
  },
  {
   "cell_type": "code",
   "execution_count": 47,
   "metadata": {},
   "outputs": [],
   "source": [
    "def find_optimal_clusters(data, max_clusters=15):\n",
    "    vectorizer = TfidfVectorizer(stop_words='english')\n",
    "    X = vectorizer.fit_transform(data['description'])\n",
    "    \n",
    "    inertia = []\n",
    "    silhouette_scores = []\n",
    "    \n",
    "    for n in range(2, max_clusters + 1):\n",
    "        kmeans = KMeans(n_clusters=n, random_state=42)\n",
    "        kmeans.fit(X)\n",
    "        inertia.append(kmeans.inertia_)\n",
    "        silhouette_avg = silhouette_score(X, kmeans.labels_)\n",
    "        silhouette_scores.append(silhouette_avg)\n",
    "    \n",
    "    return inertia, silhouette_scores\n",
    "\n",
    "\n",
    "def plot_elbow_silhouette(inertia, silhouette_scores, max_clusters=15):\n",
    "    plt.figure(figsize=(12, 6))\n",
    "    plt.plot(range(2, max_clusters + 1), inertia, marker='o', label='Inertia')\n",
    "    plt.plot(range(2, max_clusters + 1), silhouette_scores, marker='x', label='Silhouette Score')\n",
    "    plt.xlabel('Number of Clusters')\n",
    "    plt.ylabel('Inertia / Silhouette Score')\n",
    "    plt.title('Elbow Method & Silhouette Score for Optimal Clusters')\n",
    "    plt.legend()\n",
    "    plt.show()\n",
    "\n",
    "\n",
    "vectorizer = TfidfVectorizer(stop_words='english')\n",
    "X = vectorizer.fit_transform(cleaned_data['description'])\n",
    "\n",
    "\n",
    "def perform_kmeans_clustering(data, X, n_clusters=10):\n",
    "    kmeans = KMeans(n_clusters=n_clusters, random_state=42)\n",
    "    data['cluster'] = kmeans.fit_predict(X)\n",
    "    return data\n",
    "\n",
    "\n",
    "def normalize_growth_pace(cluster_data, base_value=100):\n",
    "    \"\"\"\n",
    "    Normalize growth pace to express it in 'Xx growth' format using a base_value for scaling.\n",
    "    \"\"\"\n",
    "    growth_pace = cluster_data['installs_m_m_growth'].mean()\n",
    "    \n",
    "    if growth_pace > 0:\n",
    "        scaled_growth_pace = growth_pace / base_value\n",
    "        normalized_growth_pace = f\"{scaled_growth_pace:.2f}x growth\"\n",
    "    else:\n",
    "        normalized_growth_pace = \"No Growth\"\n",
    "    \n",
    "    return normalized_growth_pace\n",
    "\n",
    "def generate_trend_summary(cluster_data, model=\"gpt-4o-mini\"):\n",
    "    descriptions = \" \".join(cluster_data['description'].tolist()[:10]) \n",
    "    messages = [\n",
    "        {\"role\": \"system\", \"content\": \"You are a helpful assistant that generates titles and descriptions for market trends.\"},\n",
    "        {\"role\": \"user\", \"content\": f\"Based on the following app descriptions, generate a title and description for this trend: {descriptions}\"}\n",
    "    ]\n",
    "    \n",
    "    response = openai.ChatCompletion.create(\n",
    "        model=model,  \n",
    "        messages=messages,\n",
    "        max_tokens=500\n",
    "    )\n",
    "    \n",
    "    return response['choices'][0]['message']['content']\n",
    "\n",
    "def generate_trend_summaries(data):\n",
    "    trend_summaries = []\n",
    "    \n",
    "    for cluster_id in data['cluster'].unique():\n",
    "        cluster_data = data[data['cluster'] == cluster_id]\n",
    "        summary = generate_trend_summary(cluster_data, model=\"gpt-4o-mini\")\n",
    "        growth_pace = normalize_growth_pace(cluster_data)\n",
    "        \n",
    "        trend_summaries.append({\n",
    "            'cluster_id': cluster_id,\n",
    "            'summary': summary,\n",
    "            'growth_pace': growth_pace,\n",
    "            'examples': cluster_data[['name', 'url']].head(7).to_dict(orient='records')\n",
    "        })\n",
    "    \n",
    "    return trend_summaries\n",
    "\n",
    "def save_trend_summaries(trend_summaries, output_file='trend_summaries.json'):\n",
    "    def convert_np_types(obj):\n",
    "        if isinstance(obj, np.integer):\n",
    "            return int(obj)\n",
    "        if isinstance(obj, np.floating):\n",
    "            return float(obj)\n",
    "        if isinstance(obj, np.ndarray):\n",
    "            return obj.tolist()\n",
    "        return obj\n",
    "    with open(output_file, 'w') as f:\n",
    "        json.dump(trend_summaries, f, indent=4, default=convert_np_types)"
   ]
  },
  {
   "cell_type": "code",
   "execution_count": 48,
   "metadata": {},
   "outputs": [],
   "source": [
    "inertia, silhouette_scores = find_optimal_clusters(cleaned_data, max_clusters=15)"
   ]
  },
  {
   "cell_type": "code",
   "execution_count": 34,
   "metadata": {},
   "outputs": [
    {
     "data": {
      "image/png": "[encoded data removed]",
      "text/plain": [
       "<Figure size 1200x600 with 1 Axes>"
      ]
     },
     "metadata": {},
     "output_type": "display_data"
    }
   ],
   "source": [
    "plot_elbow_silhouette(inertia, silhouette_scores)"
   ]
  },
  {
   "cell_type": "code",
   "execution_count": 49,
   "metadata": {},
   "outputs": [
    {
     "name": "stderr",
     "output_type": "stream",
     "text": [
      "/var/folders/7b/cj72_d7j6fz976klb3g42_ph0000gn/T/ipykernel_15936/508114792.py:35: SettingWithCopyWarning: \n",
      "A value is trying to be set on a copy of a slice from a DataFrame.\n",
      "Try using .loc[row_indexer,col_indexer] = value instead\n",
      "\n",
      "See the caveats in the documentation: https://pandas.pydata.org/pandas-docs/stable/user_guide/indexing.html#returning-a-view-versus-a-copy\n",
      "  data['cluster'] = kmeans.fit_predict(X)\n"
     ]
    }
   ],
   "source": [
    "n_clusters = 10  \n",
    "clustered_data = perform_kmeans_clustering(cleaned_data, X, n_clusters)\n"
   ]
  },
  {
   "cell_type": "markdown",
   "metadata": {},
   "source": [
    "### Generate Trend Summaries"
   ]
  },
  {
   "cell_type": "code",
   "execution_count": 50,
   "metadata": {},
   "outputs": [],
   "source": [
    "trend_summaries = generate_trend_summaries(clustered_data)"
   ]
  },
  {
   "cell_type": "code",
   "execution_count": 51,
   "metadata": {},
   "outputs": [],
   "source": [
    "save_trend_summaries(trend_summaries)"
   ]
  },
  {
   "cell_type": "code",
   "execution_count": 52,
   "metadata": {},
   "outputs": [
    {
     "name": "stdout",
     "output_type": "stream",
     "text": [
      "Cluster 3 - Summary:\n",
      "**Title: \"Rising Tide of Uncertainty in Consumer Trends\"**\n",
      "\n",
      "**Description:** In an era marked by unpredictability, the consumer landscape is witnessing an increase in the phenomenon known as \"Unknown Unknowns.\" This trend highlights the challenges brands face as emerging behaviors and preferences remain largely undefined. As consumers navigate an ever-evolving marketplace, businesses must adapt their strategies to embrace the unknown, leveraging data analytics and market research to anticipate shifts in demand. By fostering innovation and flexibility, companies can position themselves to thrive amid uncertainty and uncover new opportunities that may arise from the unpredictable nature of consumer choice.\n",
      "Growth Pace: 2.24x growth\n",
      "Examples: [{'name': 'VMware Tanzu Greenplum (BYOL)', 'url': 'https://azuremarketplace.microsoft.com/en-us/marketplace/apps/pivotal.pivotal-greenplum-azure-byol?exp=ubp8&tab=Overview'}, {'name': 'Prefect 1', 'url': 'https://azuremarketplace.microsoft.com/en-us/marketplace/apps/prefecttechnologiesinc1606247647944.prefect_cloud?exp=ubp8&tab=Overview'}, {'name': 'CData API Server', 'url': 'https://azuremarketplace.microsoft.com/en-us/marketplace/apps/cdatasoftware.cdataapiserver?exp=ubp8&tab=Overview'}, {'name': 'Volody Contract Management Software', 'url': 'https://azuremarketplace.microsoft.com/en-us/marketplace/apps/volodyproductspltd1610011615564.volody_clm?exp=ubp8&tab=Overview'}, {'name': 'Skylight Analytics', 'url': 'https://azuremarketplace.microsoft.com/en-us/marketplace/apps/accediannetworks1624483188184.ms_skylight_analytics?exp=ubp8&tab=Overview'}, {'name': 'City Graph', 'url': 'https://azuremarketplace.microsoft.com/en-us/marketplace/apps/siemens-advanta.citygraph?exp=ubp8&tab=Overview'}, {'name': 'Palantir Foundry', 'url': 'https://azuremarketplace.microsoft.com/en-us/marketplace/apps/palantirtechnologies1585670280063.palantir_foundry?exp=ubp8&tab=Overview'}]\n",
      "\n",
      "\n",
      "Cluster 0 - Summary:\n",
      "**Title: Navigating the Cloud: Harnessing the Power of Red Hat Enterprise Linux on Amazon EC2**\n",
      "\n",
      "**Description:**\n",
      "As businesses increasingly migrate to cloud environments, the adoption of Red Hat Enterprise Linux (RHEL) on Amazon EC2 is rising, marking a significant trend in cloud computing. This combination provides a robust foundation for clustered systems, delivering critical reliability, scalability, and availability for production services. By leveraging Amazon's cost-effectiveness and flexibility alongside the proven stability of RHEL, organizations can deploy a myriad of applications seamlessly. Features such as Amazon Elastic Block Store, CloudWatch, and auto-scaling capabilities integrate effortlessly, enhancing operational efficiency. With added advantages like Red Hat Insights for proactive management and the Extended Update Support for long-term stability, businesses are equipped to navigate complex data management and security needs effectively. Join the movement as enterprises harness the resiliency of RHEL on Amazon EC2, ensuring their applications run better, faster, and securely in the cloud.\n",
      "Growth Pace: 177.95x growth\n",
      "Examples: [{'name': 'Red Hat Enterprise Linux 8.4 with High Availability', 'url': 'https://aws.amazon.com/marketplace/pp/B098856RXG?qid=1714077095152&sr=0-71&ref_=srh_res_product_title'}, {'name': 'Red Hat Enterprise Linux (RHEL) 7.2 (HVM)', 'url': 'https://aws.amazon.com/marketplace/pp/B019NS7T5I?qid=1714077141790&sr=0-111&ref_=srh_res_product_title'}, {'name': 'Red Hat Enterprise Linux (RHEL) 7 (HVM)', 'url': 'https://aws.amazon.com/marketplace/pp/B00KWBZVK6?qid=1714077159027&sr=0-181&ref_=srh_res_product_title'}, {'name': 'Red Hat Enterprise Linux (RHEL) 7 (HVM)', 'url': 'https://aws.amazon.com/marketplace/pp/B07Z5GM7W6?qid=1714076889920&sr=0-41&ref_=srh_res_product_title'}, {'name': 'CloudBeaver AWS', 'url': 'https://aws.amazon.com/marketplace/pp/B08QTY2JTF?qid=1714077542952&sr=0-963&ref_=srh_res_product_title'}, {'name': 'CloudBeaver Community', 'url': 'https://aws.amazon.com/marketplace/pp/B09G4N23DT?qid=1714077931188&sr=0-2187&ref_=srh_res_product_title'}, {'name': 'SAP BusinessObjects 5 Named Users - STANDARD', 'url': 'https://aws.amazon.com/marketplace/pp/B00CB2IZWU?qid=1714077887358&sr=0-1938&ref_=srh_res_product_title'}]\n",
      "\n",
      "\n",
      "Cluster 5 - Summary:\n",
      "**Title:** The All-in-One Software Solution Trend\n",
      "\n",
      "**Description:** In today's fast-paced digital landscape, the demand for integrated software packages is on the rise. The latest trend showcases products that encompass multiple software solutions within a single platform, streamlining workflows and enhancing user efficiency. Whether for project management, data analysis, or creative endeavors, these all-encompassing offerings reduce the hassle of managing multiple subscriptions and improve collaboration. By delivering essential tools in one cohesive package, users can boost productivity and focus on what truly matters—driving their goals forward. Embrace the convenience and functionality of combined software solutions that cater to diverse needs and empower users with the tools they need to succeed in a competitive environment.\n",
      "Growth Pace: No Growth\n",
      "Examples: [{'name': 'ADFS Server Windows 2019', 'url': 'https://aws.amazon.com/marketplace/pp/B085327P1D?qid=1714077687397&sr=0-1593&ref_=srh_res_product_title'}, {'name': 'IIS 10 on Windows 2019', 'url': 'https://aws.amazon.com/marketplace/pp/B07WNLFTDB?qid=1714077509016&sr=0-783&ref_=srh_res_product_title'}, {'name': 'XAMPP Server on Windows 2019 + Apache Web Server + MariaDB + FTP', 'url': 'https://aws.amazon.com/marketplace/pp/B08L5LHBM9?qid=1714077969372&sr=0-2336&ref_=srh_res_product_title'}, {'name': 'NVIDIA Gaming PC - Windows Server 2016', 'url': 'https://aws.amazon.com/marketplace/pp/B07SRJGXWZ?qid=1714077344412&sr=0-322&ref_=srh_res_product_title'}, {'name': 'Microsoft Windows Server 2019 with NVIDIA Tesla Driver', 'url': 'https://aws.amazon.com/marketplace/pp/B07XDD4T7Y?qid=1714077649235&sr=0-1386&ref_=srh_res_product_title'}, {'name': 'Active Directory Domain Controller 2016', 'url': 'https://aws.amazon.com/marketplace/pp/B07MF4TC76?qid=1714077592984&sr=0-1162&ref_=srh_res_product_title'}, {'name': 'Microsoft SQL Server 2019 Web on Windows Server 2019', 'url': 'https://aws.amazon.com/marketplace/pp/B081DBLZNY?qid=1714077556168&sr=0-1021&ref_=srh_res_product_title'}]\n",
      "\n",
      "\n",
      "Cluster 1 - Summary:\n",
      "### Title: \"Elevating Code Quality: The Rise of Automated Code Review Tools\"\n",
      "\n",
      "### Description: \n",
      "In an era where code quality is paramount, automated code review tools like SonarQube™ are reshaping the landscape of software development. This open-source platform specializes in continuous inspection, leveraging static analysis to uncover bugs and code smells across over 20 programming languages. As developers seek efficiency, SonarQube’s comprehensive reporting on duplicated code, coding standards, unit tests, and security recommendations is becoming indispensable. \n",
      "\n",
      "Furthermore, innovative technologies are enhancing the coding experience with features such as automated documentation and advanced diff tools, streamlining manual reviews by highlighting essential changes and eliminated distractions. The integration of tools that facilitate faster code retrieval and sharing—such as the ability to generate code snippets as direct links to VS Code—underscores the growing importance of accessibility in coding practices.\n",
      "\n",
      "As AI continues to play a pivotal role in development, the emergence of integrated solutions within beloved IDEs like VSCode allows developers to create components effortlessly, further pushing the boundaries of what can be achieved through automation in coding. The trend towards elevating code quality through automation is here to stay, promising an exciting future for the development community.\n",
      "Growth Pace: 508.60x growth\n",
      "Examples: [{'name': 'SonarQube™ packaged by 12 Tech', 'url': 'https://aws.amazon.com/marketplace/pp/B09V977K4H?qid=1714079838315&sr=0-4861&ref_=srh_res_product_title'}, {'name': 'Code Interpreter', 'url': 'https://chat.openai.com/g/g-sQRNqxNFX-code-interpreter'}, {'name': 'Boot.dev', 'url': nan}, {'name': 'Commet AI', 'url': nan}, {'name': 'MergEase', 'url': nan}, {'name': 'Code search by Quod AI', 'url': nan}, {'name': 'Hound', 'url': nan}]\n",
      "\n",
      "\n",
      "Cluster 4 - Summary:\n",
      "**Title:** Revolutionizing Digital Communication: The Rise of Multifunctional Marketing and Collaboration Tools\n",
      "\n",
      "**Description:** In today's fast-paced digital landscape, businesses are increasingly relying on sophisticated tools that streamline communication and enhance customer engagement. From powerful email marketing automation platforms like phpList, which allow users to send campaigns to millions of subscribers while efficiently managing data, to creative solutions that generate distinctive brand names, the trend is clear: organizations crave versatility. \n",
      "\n",
      "Innovative applications are also making critical connections easier with tools for creating landing pages that convert traffic into customers effectively. Meanwhile, privacy-centric messaging apps such as Gossip cater to users seeking encrypted communications outside the conventional app stores. \n",
      "\n",
      "Furthermore, specialized integration tools like Shopify and GitHub sync and discord bot creators aid in optimizing workflows and automating client interactions. As remote work continues to shape the business environment, high-security online meeting platforms are enhancing collaboration with teams and clients worldwide. This trend highlights the essential need for multifunctionality and security in today's digital toolkit, allowing businesses to adapt and thrive in an increasingly interconnected world.\n",
      "Growth Pace: No Growth\n",
      "Examples: [{'name': 'phpList: Newsletter and Email Marketing by Miri Infotech Inc', 'url': 'https://aws.amazon.com/marketplace/pp/B06XGPRJJ7?qid=1714079941781&sr=0-5131&ref_=srh_res_product_title'}, {'name': 'Sales Coach', 'url': 'https://chat.openai.com/g/g-HKpDuDZ2h-sales-coach'}, {'name': 'Company Name Generator', 'url': 'https://chat.openai.com/g/g-TDLJiTmah-company-name-generator'}, {'name': '�� Roast My Landing Page ��', 'url': 'https://chat.openai.com/g/g-i9J5QHw2O-roast-my-landing-page'}, {'name': 'GossipMessageApp', 'url': nan}, {'name': 'Plug in Git for Shopify', 'url': nan}, {'name': 'Simple discord bot', 'url': nan}]\n",
      "\n",
      "\n",
      "Cluster 6 - Summary:\n",
      "**Title: Revolutionizing Data Interaction: AI-Enhanced Digital Marketing Insights**\n",
      "\n",
      "**Description:**\n",
      "The trend of utilizing AI-driven tools to interact with your Google Ads, Analytics, and Sheets data is rapidly transforming the digital marketing landscape. With innovations powered by platforms like Adzviser, users can effortlessly engage in reporting, optimization, and hypothesis testing through conversational interfaces. Imagine asking your data a question and receiving insightful, actionable reports in an instant. \n",
      "\n",
      "This trend also encompasses advanced presentation capabilities, allowing users to export data-driven insights seamlessly to PowerPoint, Google Slides, or PDF formats, maximizing impact and clarity. Additionally, enhanced AI voiceovers enable compelling storytelling by reading content from various platforms, including Google Drive and OneDrive. \n",
      "\n",
      "Moreover, marketers are optimizing their strategies through detailed SEO analysis, identifying on-page improvements, examining competitor landscapes, and ensuring adherence to Google's Quality Guidelines. The ability to convert complex data into manageable insights has never been easier, making this trend essential for professionals looking to master their digital marketing strategies efficiently and effectively. \n",
      "\n",
      "Unlock the full potential of your data with AI-enhanced tools that simplify complexity, foster creativity, and drive results.\n",
      "Growth Pace: 4.41x growth\n",
      "Examples: [{'name': 'Google Ads Virtual Assistant', 'url': 'https://chat.openai.com/g/g-bIPAVgyEz-google-ads-virtual-assistant'}, {'name': 'Presentation and Slides GPT', 'url': 'https://chat.openai.com/g/g-cJtHaGnyo-presentation-and-slides-gpt'}, {'name': 'Presentation and Slides GPT', 'url': 'https://chat.openai.com/g/g-cJtHaGnyo-presentation-and-slides-gpt'}, {'name': 'AI Voice Generator: Text to Speech', 'url': 'https://chat.openai.com/g/g-MJYELDDFg-ai-voice-generator-text-to-speech'}, {'name': 'AI Voice Generator: Text to Speech', 'url': 'https://chat.openai.com/g/g-MJYELDDFg-ai-voice-generator-text-to-speech'}, {'name': 'Colab Amazing Helper', 'url': 'https://chat.openai.com/g/g-7jrU5WM3t-colab-amazing-helper'}, {'name': 'Gooogle Search', 'url': 'https://chat.openai.com/g/g-76OfIUJeh-gooogle-search'}]\n",
      "\n",
      "\n",
      "Cluster 7 - Summary:\n",
      "**Title: The Rise of Code-Assist Platforms: Bridging Language Barriers in Software Development**\n",
      "\n",
      "**Description:**\n",
      "As the demand for coding expertise transcends conventional programming boundaries, a new trend has emerged with platforms specializing in expert assistance across various programming languages. From R and C to advanced Assembly languages, these services cater to developers seeking guidance, best practices, debugging assistance, and project optimization. With features like no-frills language translation and multimedia summarization, these applications not only enhance coding proficiency but also break down language barriers for programmers worldwide. The integration of alternative learning methods, such as the Language Transfer Podcast, further enriches the experience, providing structured paths to mastering complex coding skills. This trend highlights a pivotal shift towards collaborative coding environments, where expertise is just a click away, making programming more accessible than ever.\n",
      "Growth Pace: 334.42x growth\n",
      "Examples: [{'name': 'R Language Assistant', 'url': 'https://chat.openai.com/g/g-gU2qvhSVL-r-language-assistant'}, {'name': 'C Programming Language', 'url': 'https://chat.openai.com/g/g-LLfzavthB-c-programming-language'}, {'name': 'Translate any Language | Best Translator', 'url': 'https://chat.openai.com/g/g-OV3NtdSU4-translate-any-language-best-translator'}, {'name': 'RISC-V Assembly Expert', 'url': 'https://chat.openai.com/g/g-KiFu6V9MC-risc-v-assembly-expert'}, {'name': 'Prolog Helper', 'url': 'https://chat.openai.com/g/g-LzgZYmE4a-prolog-helper'}, {'name': 'Language Tutor (Any Language)', 'url': 'https://chat.openai.com/g/g-iNrAysHUP-language-tutor-any-language'}, {'name': 'Assembly Language Expert', 'url': 'https://chat.openai.com/g/g-VbXpEBT66-assembly-language-expert'}]\n",
      "\n",
      "\n",
      "Cluster 8 - Summary:\n",
      "**Title: \"Elevating Code with VSCode: The Ultimate Development Ecosystem\"**\n",
      "\n",
      "**Description:**\n",
      "Discover the latest trend in Visual Studio Code extensions that streamline your development workflow and enhance productivity. From powerful image manipulation tools—including compressing, cropping, and format conversions—to advanced testing solutions for frameworks like GoogleTest and Catch2, these VSCode plugins cater to every coder's needs. Leverage AI-powered features with smart integrations like ChatGPT and Gemini Pro AI to automate tasks and improve efficiency right within your coding environment. Plus, test your web projects in real-time across thousands of browsers via BrowserStack seamlessly. Join the revolution and transform your coding experience with these indispensable VSCode enhancements.\n",
      "Growth Pace: 95.66x growth\n",
      "Examples: [{'name': 'VSCode Code Companion', 'url': 'https://chat.openai.com/g/g-WRte0yaJM-vscode-code-companion'}, {'name': 'Image Manager', 'url': 'https://marketplace.visualstudio.com/items?itemName=minko.image-manager'}, {'name': 'Vim Keymaps', 'url': 'https://marketplace.visualstudio.com/items?itemName=schillermann.vim-keymaps'}, {'name': 'C++ TAEFMate', 'url': 'https://marketplace.visualstudio.com/items?itemName=dpar39.vscode-taef-test-adapter'}, {'name': 'twinny - AI Code Completion and Chat', 'url': 'https://marketplace.visualstudio.com/items?itemName=rjmacarthy.twinny'}, {'name': 'Extension Auto Updater', 'url': 'https://marketplace.visualstudio.com/items?itemName=yangzhao.auto-updater'}, {'name': 'ChatGPT & GPT extension - kudos-gpt', 'url': 'https://marketplace.visualstudio.com/items?itemName=AkiraKudo.kudos-gpt'}]\n",
      "\n",
      "\n",
      "Cluster 9 - Summary:\n",
      "**Title: Enhancing Development Experience: The Rise of AI-Driven Tools and Extensions for Visual Studio Code**\n",
      "\n",
      "**Description:**\n",
      "In the ever-evolving landscape of software development, a notable trend is the integration of AI-powered tools and specialized extensions designed to enhance the coding experience within Visual Studio Code (VS Code). With features such as AI-driven error diagnosis, intelligent code editing, and automated bug resolution, developers are harnessing the power of machine learning to streamline their workflows. Additionally, advanced toolkits like the QNX Toolkit and plugins for testing frameworks like TestCafe are offering developers increased functionality and ease of use. Emulation support for NVim and enhanced debugging capabilities for languages such as Datasonnet and Jsonnet further empower VS Code users, enabling a seamless integration of various programming environments. This trend highlights the growing importance of AI and specialized tools in fostering productivity and efficiency for R and R Studio students and users, allowing them to navigate complex programming tasks with greater confidence and precision.\n",
      "Growth Pace: 626.94x growth\n",
      "Examples: [{'name': 'R and R Studio Tutor', 'url': 'https://chat.openai.com/g/g-iedyANQtM-r-and-r-studio-tutor'}, {'name': 'Visual Studio Code Expert', 'url': 'https://chat.openai.com/g/g-FYMRmDqEY-visual-studio-code-expert'}, {'name': 'UnfoldAI', 'url': nan}, {'name': 'Helix For VS Code', 'url': 'https://marketplace.visualstudio.com/items?itemName=jasew.vscode-helix-emulation'}, {'name': 'TASKING winIDEA', 'url': 'https://marketplace.visualstudio.com/items?itemName=TASKING-winIDEA.TASKING-winIDEA'}, {'name': 'Obsidian MD for VSCode', 'url': 'https://marketplace.visualstudio.com/items?itemName=willasm.obsidian-md-vsc'}, {'name': 'QNX Toolkit', 'url': 'https://marketplace.visualstudio.com/items?itemName=qnx.qnx-vscode'}]\n",
      "\n",
      "\n",
      "Cluster 2 - Summary:\n",
      "**Title: The Rise of Productivity Extensions: Empowering Developers and Admins**\n",
      "\n",
      "**Description:**  \n",
      "In today's fast-paced digital landscape, productivity extensions are becoming indispensable tools for developers and administrators alike. This trend highlights the surge in browser extensions designed to streamline workflows and enhance productivity across various platforms. From a free browser extension that simplifies GitHub issue management and facilitates seamless pull request merges to \"Today I Learned,\" which encourages users to document their daily discoveries, these tools are shaping the way professionals interact with technology. Additionally, specialized libraries for Python's data analysis and machine learning, alongside comprehensive dashboard packs for Service & Support case tracking, provide users with robust resources to tackle complex tasks efficiently. With offerings like the Ultimate Starter Pack for Admins and cutting-edge Salesforce Chrome Extensions, the landscape is ripe for innovation, catering to the diverse needs of teams striving for enhanced performance and collaboration. Join the movement to leverage these extensions and maximize your productivity in the modern workspace!\n",
      "Growth Pace: 940.96x growth\n",
      "Examples: [{'name': 'Jam.dev for GitHub', 'url': nan}, {'name': 'lancer-extension', 'url': nan}, {'name': 'TIL: Today I Learned', 'url': nan}, {'name': 'mlxtend', 'url': 'https://github.com/rasbt/mlxtend'}, {'name': 'RSJ 3D Packer', 'url': 'https://workspace.google.com/marketplace/app/rsj_3d_packer/483180475230'}, {'name': 'Service & Support Dashboards', 'url': 'https://appexchange.salesforce.com/appxListingDetail?listingId=a0N300000016Z6kEAE'}, {'name': 'Salesforce CRM Dashboards', 'url': 'https://appexchange.salesforce.com/appxListingDetail?listingId=a0N30000004g316EAA'}]\n",
      "\n",
      "\n"
     ]
    }
   ],
   "source": [
    "\n",
    "for trend in trend_summaries:\n",
    "    print(f\"Cluster {trend['cluster_id']} - Summary:\\n{trend['summary']}\")\n",
    "    print(f\"Growth Pace: {trend['growth_pace']}\")\n",
    "    print(f\"Examples: {trend['examples']}\")\n",
    "    print(\"\\n\")"
   ]
  },
  {
   "cell_type": "code",
   "execution_count": null,
   "metadata": {},
   "outputs": [],
   "source": []
  }
 ],
 "metadata": {
  "kernelspec": {
   "display_name": "base",
   "language": "python",
   "name": "python3"
  },
  "language_info": {
   "codemirror_mode": {
    "name": "ipython",
    "version": 3
   },
   "file_extension": ".py",
   "mimetype": "text/x-python",
   "name": "python",
   "nbconvert_exporter": "python",
   "pygments_lexer": "ipython3",
   "version": "3.10.12"
  }
 },
 "nbformat": 4,
 "nbformat_minor": 2
}

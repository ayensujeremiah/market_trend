{
 "cells": [
  {
   "cell_type": "markdown",
   "metadata": {},
   "source": [
    "### Load API_KEYS, Merge and Preprocess Datasets"
   ]
  },
  {
   "cell_type": "code",
   "execution_count": 1,
   "metadata": {},
   "outputs": [],
   "source": [
    " \n",
    "import os\n",
    "from dotenv import load_dotenv\n",
    "import openai\n",
    "\n",
    "load_dotenv()\n",
    "\n",
    "openai_api_key = os.getenv('OPENAI_API_KEY')\n",
    "\n",
    "\n",
    "openai.api_key = openai_api_key"
   ]
  },
  {
   "cell_type": "code",
   "execution_count": 4,
   "metadata": {},
   "outputs": [],
   "source": [
    "import pandas as pd\n",
    "\n",
    "azure_marketplace = pd.read_csv('./Data/Azure marketplace growth.csv')\n",
    "aws_marketplace = pd.read_csv('./Data/Aws marketplace growth.csv')\n",
    "chatgpt_store_growth = pd.read_csv('./Data/ChatGPT Store growth.csv')\n",
    "github_marketplace = pd.read_csv('./Data/Github marketplace growth.csv')\n",
    "github_repo_stars_growth = pd.read_csv('./Data/Github repo stars growth.csv')\n",
    "google_workspace_marketplace = pd.read_csv('./Data/Google Workspace Marketplace.csv')\n",
    "salesforce_marketplace = pd.read_csv('./Data/Salesforce Marketplace growth.csv')\n",
    "shopify_marketplace = pd.read_csv('./Data/Shopify marketplace growth.csv')\n",
    "visual_studio_marketplace = pd.read_csv('./Data/Visual Studio Marketplace Growth.csv')\n",
    "\n",
    "\n",
    "\n",
    "\n",
    "\n",
    "\n"
   ]
  },
  {
   "cell_type": "code",
   "execution_count": 5,
   "metadata": {},
   "outputs": [],
   "source": [
    "datasets = [\n",
    "    azure_marketplace, aws_marketplace, chatgpt_store_growth, github_marketplace, \n",
    "    github_repo_stars_growth, google_workspace_marketplace, salesforce_marketplace, \n",
    "    shopify_marketplace, visual_studio_marketplace\n",
    "]\n",
    "\n"
   ]
  },
  {
   "cell_type": "code",
   "execution_count": 6,
   "metadata": {},
   "outputs": [],
   "source": [
    "unique_datasets = []\n",
    "for dataset in datasets:\n",
    "    if not any(dataset.equals(existing) for existing in unique_datasets):\n",
    "        unique_datasets.append(dataset)"
   ]
  },
  {
   "cell_type": "code",
   "execution_count": 7,
   "metadata": {},
   "outputs": [],
   "source": [
    "combined_data = pd.concat(unique_datasets, ignore_index=True)\n",
    "\n",
    "\n",
    "cleaned_data = combined_data.drop_duplicates()\n",
    "\n",
    "\n",
    "cleaned_data.to_csv(\"cleaned_marketplace_data.csv\", index=False)\n",
    "\n"
   ]
  },
  {
   "cell_type": "code",
   "execution_count": 13,
   "metadata": {},
   "outputs": [
    {
     "name": "stdout",
     "output_type": "stream",
     "text": [
      "<class 'pandas.core.frame.DataFrame'>\n",
      "Index: 17757 entries, 0 to 17866\n",
      "Data columns (total 11 columns):\n",
      " #   Column               Non-Null Count  Dtype  \n",
      "---  ------               --------------  -----  \n",
      " 0   name                 17757 non-null  object \n",
      " 1   url                  17355 non-null  object \n",
      " 2   last_month_installs  17757 non-null  float64\n",
      " 3   this_month_installs  17757 non-null  float64\n",
      " 4   installs_m_m_growth  17757 non-null  float64\n",
      " 5   last_month_multiple  17740 non-null  float64\n",
      " 6   description          17757 non-null  object \n",
      " 7   domain               17757 non-null  object \n",
      " 8   last_month_stars     17757 non-null  float64\n",
      " 9   this_month_stars     17757 non-null  float64\n",
      " 10  stars_m_m_growth     17757 non-null  float64\n",
      "dtypes: float64(7), object(4)\n",
      "memory usage: 1.6+ MB\n"
     ]
    },
    {
     "name": "stderr",
     "output_type": "stream",
     "text": [
      "/var/folders/7b/cj72_d7j6fz976klb3g42_ph0000gn/T/ipykernel_83244/846499854.py:1: SettingWithCopyWarning: \n",
      "A value is trying to be set on a copy of a slice from a DataFrame\n",
      "\n",
      "See the caveats in the documentation: https://pandas.pydata.org/pandas-docs/stable/user_guide/indexing.html#returning-a-view-versus-a-copy\n",
      "  cleaned_data.fillna({\n",
      "/var/folders/7b/cj72_d7j6fz976klb3g42_ph0000gn/T/ipykernel_83244/846499854.py:13: SettingWithCopyWarning: \n",
      "A value is trying to be set on a copy of a slice from a DataFrame.\n",
      "Try using .loc[row_indexer,col_indexer] = value instead\n",
      "\n",
      "See the caveats in the documentation: https://pandas.pydata.org/pandas-docs/stable/user_guide/indexing.html#returning-a-view-versus-a-copy\n",
      "  cleaned_data['name'] = cleaned_data['name'].str.strip()\n",
      "/var/folders/7b/cj72_d7j6fz976klb3g42_ph0000gn/T/ipykernel_83244/846499854.py:14: SettingWithCopyWarning: \n",
      "A value is trying to be set on a copy of a slice from a DataFrame.\n",
      "Try using .loc[row_indexer,col_indexer] = value instead\n",
      "\n",
      "See the caveats in the documentation: https://pandas.pydata.org/pandas-docs/stable/user_guide/indexing.html#returning-a-view-versus-a-copy\n",
      "  cleaned_data['description'] = cleaned_data['description'].str.strip()\n",
      "/var/folders/7b/cj72_d7j6fz976klb3g42_ph0000gn/T/ipykernel_83244/846499854.py:15: SettingWithCopyWarning: \n",
      "A value is trying to be set on a copy of a slice from a DataFrame.\n",
      "Try using .loc[row_indexer,col_indexer] = value instead\n",
      "\n",
      "See the caveats in the documentation: https://pandas.pydata.org/pandas-docs/stable/user_guide/indexing.html#returning-a-view-versus-a-copy\n",
      "  cleaned_data['domain'] = cleaned_data['domain'].str.strip()\n"
     ]
    }
   ],
   "source": [
    "\n",
    "\n",
    "cleaned_data.fillna({\n",
    "    'last_month_installs': 0,\n",
    "    'this_month_installs': 0,\n",
    "    'installs_m_m_growth': 0,\n",
    "    'description': 'Unknown',\n",
    "    'domain': 'Unknown',\n",
    "    'last_month_stars': 0,\n",
    "    'this_month_stars': 0,\n",
    "    'stars_m_m_growth': 0,\n",
    "}, inplace=True)\n",
    "\n",
    "# Handle any further inconsistencies like trailing spaces in text fields\n",
    "cleaned_data['name'] = cleaned_data['name'].str.strip()\n",
    "cleaned_data['description'] = cleaned_data['description'].str.strip()\n",
    "cleaned_data['domain'] = cleaned_data['domain'].str.strip()\n",
    "\n",
    "\n",
    "cleaned_data.info()\n",
    "\n",
    "output_path = \"cleaned_marketplace_data.csv\"\n",
    "cleaned_data.to_csv(output_path, index=False)\n",
    "\n",
    "\n",
    "\n"
   ]
  },
  {
   "cell_type": "markdown",
   "metadata": {},
   "source": [
    "### Perform Clustering "
   ]
  },
  {
   "cell_type": "code",
   "execution_count": 14,
   "metadata": {},
   "outputs": [
    {
     "name": "stdout",
     "output_type": "stream",
     "text": [
      "0\n"
     ]
    }
   ],
   "source": [
    "import pandas as pd\n",
    "from sklearn.feature_extraction.text import TfidfVectorizer\n",
    "from sklearn.cluster import KMeans\n",
    "\n",
    "\n",
    "\n",
    "\n",
    "\n",
    "\n",
    "\n",
    "data = pd.read_csv('cleaned_marketplace_data.csv')\n",
    "\n",
    "data['description'].fillna('Unknown', inplace=True)\n",
    "\n",
    "\n",
    "print(data['description'].isna().sum()) \n",
    "\n",
    "\n",
    "\n",
    "vectorizer = TfidfVectorizer(stop_words='english')\n",
    "X = vectorizer.fit_transform(data['description'])\n",
    "\n",
    "n_clusters = 10  \n",
    "kmeans = KMeans(n_clusters=n_clusters, random_state=42)\n",
    "data['cluster'] = kmeans.fit_predict(X)\n"
   ]
  },
  {
   "cell_type": "markdown",
   "metadata": {},
   "source": [
    "### Generate Trend Summary Report with LLM"
   ]
  },
  {
   "cell_type": "code",
   "execution_count": 15,
   "metadata": {},
   "outputs": [],
   "source": [
    "import openai\n",
    "\n",
    "\n",
    "def generate_trend_summary(cluster_data):\n",
    "    descriptions = \" \".join(cluster_data['description'].tolist()[:10]) \n",
    "    messages = [\n",
    "        {\"role\": \"system\", \"content\": \"You are a helpful assistant that generates titles and descriptions for market trends.\"},\n",
    "        {\"role\": \"user\", \"content\": f\"Based on the following app descriptions, generate a title and description for this trend: {descriptions}\"}\n",
    "    ]\n",
    "    \n",
    "    response = openai.ChatCompletion.create(\n",
    "        model=\"gpt-3.5-turbo\",  \n",
    "        messages=messages,\n",
    "        max_tokens=500\n",
    "    )\n",
    "    \n",
    "    return response['choices'][0]['message']['content']\n",
    "\n",
    "# Apply the trend summary generation to each cluster\n",
    "trend_summaries = []\n",
    "\n",
    "for cluster_id in data['cluster'].unique():\n",
    "    cluster_data = data[data['cluster'] == cluster_id]\n",
    "    summary = generate_trend_summary(cluster_data)\n",
    "    trend_summaries.append({\n",
    "        'cluster_id': cluster_id,\n",
    "        'summary': summary,\n",
    "        'growth_pace': cluster_data['installs_m_m_growth'].mean(),\n",
    "        'examples': cluster_data[['name', 'url']].head(7).to_dict(orient='records')\n",
    "    })\n"
   ]
  },
  {
   "cell_type": "code",
   "execution_count": 16,
   "metadata": {},
   "outputs": [
    {
     "name": "stdout",
     "output_type": "stream",
     "text": [
      "Cluster 3 - Summary:\n",
      "Title: Mystery Apps: Unveiling the Unknown in Digital Trends\n",
      "\n",
      "Description: Discover the intrigue of the latest trend in app development with a collection of unknown and mysterious applications that are reshaping the digital landscape. From hidden gems to innovative tools, explore the enigma behind these apps and uncover a world of limitless possibilities waiting to be revealed.\n",
      "Growth Pace: 223.89087093389296\n",
      "Examples: [{'name': 'VMware Tanzu Greenplum (BYOL)', 'url': 'https://azuremarketplace.microsoft.com/en-us/marketplace/apps/pivotal.pivotal-greenplum-azure-byol?exp=ubp8&tab=Overview'}, {'name': 'Prefect 1', 'url': 'https://azuremarketplace.microsoft.com/en-us/marketplace/apps/prefecttechnologiesinc1606247647944.prefect_cloud?exp=ubp8&tab=Overview'}, {'name': 'CData API Server', 'url': 'https://azuremarketplace.microsoft.com/en-us/marketplace/apps/cdatasoftware.cdataapiserver?exp=ubp8&tab=Overview'}, {'name': 'Volody Contract Management Software', 'url': 'https://azuremarketplace.microsoft.com/en-us/marketplace/apps/volodyproductspltd1610011615564.volody_clm?exp=ubp8&tab=Overview'}, {'name': 'Skylight Analytics', 'url': 'https://azuremarketplace.microsoft.com/en-us/marketplace/apps/accediannetworks1624483188184.ms_skylight_analytics?exp=ubp8&tab=Overview'}, {'name': 'City Graph', 'url': 'https://azuremarketplace.microsoft.com/en-us/marketplace/apps/siemens-advanta.citygraph?exp=ubp8&tab=Overview'}, {'name': 'Palantir Foundry', 'url': 'https://azuremarketplace.microsoft.com/en-us/marketplace/apps/palantirtechnologies1585670280063.palantir_foundry?exp=ubp8&tab=Overview'}]\n",
      "\n",
      "\n",
      "Cluster 0 - Summary:\n",
      "Title: Enhanced Cloud Infrastructure Solutions for High Availability and Scalability\n",
      "\n",
      "Description: Explore the latest trend in cloud infrastructure solutions, leveraging Red Hat Enterprise Linux with High Availability on Amazon EC2 for enhanced reliability, scalability, and availability of critical production services. This trend offers seamless integration with Amazon EC2 features, including Elastic Block Store, CloudWatch, Load Balancing, and more. Additionally, CloudBeaver, a universal data management interface, and SAP BusinessObjects AMI bring innovative cloud-based solutions for efficient business intelligence and data management. Strengthen your security operations with Splunk SOAR, providing security orchestration, automation, and response capabilities for smarter, faster incident handling. Discover how these offerings built on Red Hat Enterprise Linux OS can optimize your cloud environment and streamline your operations.\n",
      "Growth Pace: 17016.2098996803\n",
      "Examples: [{'name': 'Red Hat Enterprise Linux 8.4 with High Availability', 'url': 'https://aws.amazon.com/marketplace/pp/B098856RXG?qid=1714077095152&sr=0-71&ref_=srh_res_product_title'}, {'name': 'Red Hat Enterprise Linux (RHEL) 7.2 (HVM)', 'url': 'https://aws.amazon.com/marketplace/pp/B019NS7T5I?qid=1714077141790&sr=0-111&ref_=srh_res_product_title'}, {'name': 'Red Hat Enterprise Linux (RHEL) 7 (HVM)', 'url': 'https://aws.amazon.com/marketplace/pp/B00KWBZVK6?qid=1714077159027&sr=0-181&ref_=srh_res_product_title'}, {'name': 'Red Hat Enterprise Linux (RHEL) 7 (HVM)', 'url': 'https://aws.amazon.com/marketplace/pp/B07Z5GM7W6?qid=1714076889920&sr=0-41&ref_=srh_res_product_title'}, {'name': 'CloudBeaver AWS', 'url': 'https://aws.amazon.com/marketplace/pp/B08QTY2JTF?qid=1714077542952&sr=0-963&ref_=srh_res_product_title'}, {'name': 'CloudBeaver Community', 'url': 'https://aws.amazon.com/marketplace/pp/B09G4N23DT?qid=1714077931188&sr=0-2187&ref_=srh_res_product_title'}, {'name': 'SAP BusinessObjects 5 Named Users - STANDARD', 'url': 'https://aws.amazon.com/marketplace/pp/B00CB2IZWU?qid=1714077887358&sr=0-1938&ref_=srh_res_product_title'}]\n",
      "\n",
      "\n",
      "Cluster 6 - Summary:\n",
      "Title: \"Integrated Software Suite for Enhanced Productivity\"\n",
      "\n",
      "Description: The growing market trend focuses on offering integrated software packages that combine complementary tools to improve productivity and efficiency for users. These software suites include a diverse range of features that cater to various user needs, making them a convenient all-in-one solution. By integrating different software packages into a single product, users can streamline their workflows, optimize processes, and enhance overall performance. Embracing this trend can help businesses and individuals achieve higher levels of productivity and effectiveness in their daily tasks.\n",
      "Growth Pace: 90.01624365482233\n",
      "Examples: [{'name': 'ADFS Server Windows 2019', 'url': 'https://aws.amazon.com/marketplace/pp/B085327P1D?qid=1714077687397&sr=0-1593&ref_=srh_res_product_title'}, {'name': 'IIS 10 on Windows 2019', 'url': 'https://aws.amazon.com/marketplace/pp/B07WNLFTDB?qid=1714077509016&sr=0-783&ref_=srh_res_product_title'}, {'name': 'XAMPP Server on Windows 2019 + Apache Web Server + MariaDB + FTP', 'url': 'https://aws.amazon.com/marketplace/pp/B08L5LHBM9?qid=1714077969372&sr=0-2336&ref_=srh_res_product_title'}, {'name': 'NVIDIA Gaming PC - Windows Server 2016', 'url': 'https://aws.amazon.com/marketplace/pp/B07SRJGXWZ?qid=1714077344412&sr=0-322&ref_=srh_res_product_title'}, {'name': 'Microsoft Windows Server 2019 with NVIDIA Tesla Driver', 'url': 'https://aws.amazon.com/marketplace/pp/B07XDD4T7Y?qid=1714077649235&sr=0-1386&ref_=srh_res_product_title'}, {'name': 'Active Directory Domain Controller 2016', 'url': 'https://aws.amazon.com/marketplace/pp/B07MF4TC76?qid=1714077592984&sr=0-1162&ref_=srh_res_product_title'}, {'name': 'Microsoft SQL Server 2019 Web on Windows Server 2019', 'url': 'https://aws.amazon.com/marketplace/pp/B081DBLZNY?qid=1714077556168&sr=0-1021&ref_=srh_res_product_title'}]\n",
      "\n",
      "\n",
      "Cluster 1 - Summary:\n",
      "Title: \"Enhance Your Development Workflow with Code Quality Inspection Tools\"\n",
      "\n",
      "Description: Stay ahead of the curve in software development by utilizing code quality inspection tools like SonarQube™ and other specialized assistants and project generators. These tools offer a comprehensive analysis of your codebase, detecting bugs, code smells, duplicated code, and security vulnerabilities across a wide range of programming languages. By focusing on writing clean, responsive, efficient, and scalable code, developers can optimize their workflow, improve productivity, and become faster at delivering high-quality projects. Step up your coding game and embrace these tools to elevate your development process to the next level.\n",
      "Growth Pace: 60567.935523114356\n",
      "Examples: [{'name': 'SonarQube™ packaged by 12 Tech', 'url': 'https://aws.amazon.com/marketplace/pp/B09V977K4H?qid=1714079838315&sr=0-4861&ref_=srh_res_product_title'}, {'name': 'Java', 'url': 'https://chat.openai.com/g/g-3GmVMbWRV-java'}, {'name': 'NodeJS Copilot', 'url': 'https://chat.openai.com/g/g-OHnkjwF54-nodejs-copilot'}, {'name': 'Vue Copilot', 'url': 'https://chat.openai.com/g/g-V9flHctZB-vue-copilot'}, {'name': '.NET Copilot', 'url': 'https://chat.openai.com/g/g-SmxfTyCnC-net-copilot'}, {'name': 'Laravel Copilot', 'url': 'https://chat.openai.com/g/g-2ND93c6u2-laravel-copilot'}, {'name': 'Angular Copilot', 'url': 'https://chat.openai.com/g/g-U80yiDX6F-angular-copilot'}]\n",
      "\n",
      "\n",
      "Cluster 4 - Summary:\n",
      "Title: Innovative Tech Solutions for Sales, Branding, and Customer Engagement\n",
      "\n",
      "Description: The current market trend is seeing a rise in innovative tech solutions tailored for sales simulations, email marketing automation, and branding strategies. From a creative business name generator for startups to encrypted messaging apps prioritizing user privacy, these tools are designed to streamline business operations and enhance customer engagement. Additionally, the trend includes two-way synchronization between e-commerce platforms like Shopify and GitHub, as well as convenient starter code generators for creating Discord bots. Furthermore, the trend features free online scheduling tools to help businesses efficiently book appointments and drive growth. Stay ahead of the curve with these cutting-edge technologies enhancing sales, branding, and customer interactions.\n",
      "Growth Pace: -73.08165548098434\n",
      "Examples: [{'name': 'Sales Coach', 'url': 'https://chat.openai.com/g/g-HKpDuDZ2h-sales-coach'}, {'name': 'Company Name Generator', 'url': 'https://chat.openai.com/g/g-TDLJiTmah-company-name-generator'}, {'name': 'GossipMessageApp', 'url': nan}, {'name': 'Plug in Git for Shopify', 'url': nan}, {'name': 'Simple discord bot', 'url': nan}, {'name': 'Zoho Campaigns', 'url': 'https://workspace.google.com/marketplace/app/zoho_campaigns/240552415845'}, {'name': 'Zoho Campaigns', 'url': 'https://workspace.google.com/marketplace/app/zoho_campaigns/240552415845'}]\n",
      "\n",
      "\n",
      "Cluster 8 - Summary:\n",
      "Title: AI-Powered Google Data Analysis and Optimization Trend\n",
      "\n",
      "Description: Dive into the future of digital marketing with AI assistants powered by Adzviser, offering seamless integration with Google Ads, Google Analytics, and SEO tools. Streamline your reporting process, optimize campaigns, conduct hypothesis testing, and more with the help of cutting-edge technology. Create stunning PowerPoint presentations effortlessly, export to various formats, and even generate high-quality AI voiceovers. Enhance your SEO strategies with detailed website analysis and competitor insights, while mastering Google Sheets with expert guidance. Stay ahead of the curve with real-time web data, code help, and automation advice at your fingertips.\n",
      "Growth Pace: 450.3247588424437\n",
      "Examples: [{'name': 'Google Ads Virtual Assistant', 'url': 'https://chat.openai.com/g/g-bIPAVgyEz-google-ads-virtual-assistant'}, {'name': 'Presentation and Slides GPT', 'url': 'https://chat.openai.com/g/g-cJtHaGnyo-presentation-and-slides-gpt'}, {'name': 'Presentation and Slides GPT', 'url': 'https://chat.openai.com/g/g-cJtHaGnyo-presentation-and-slides-gpt'}, {'name': 'AI Voice Generator: Text to Speech', 'url': 'https://chat.openai.com/g/g-MJYELDDFg-ai-voice-generator-text-to-speech'}, {'name': 'AI Voice Generator: Text to Speech', 'url': 'https://chat.openai.com/g/g-MJYELDDFg-ai-voice-generator-text-to-speech'}, {'name': 'Gooogle Search', 'url': 'https://chat.openai.com/g/g-76OfIUJeh-gooogle-search'}, {'name': 'Sheets Expert', 'url': 'https://chat.openai.com/g/g-3Ic3swbbY-sheets-expert'}]\n",
      "\n",
      "\n",
      "Cluster 9 - Summary:\n",
      "Title: \"VSCode Power Pack: Boost Your Productivity with Essential Extensions\"\n",
      "\n",
      "Description: Discover the latest trend in VSCode development with a collection of essential plugins designed to enhance your coding experience. From image editing and automation with AI-powered assistants to seamless integration with powerful testing frameworks, transform your workflow with everything you need to streamline and optimize your coding process. Stay ahead of the curve and unlock new possibilities with the VSCode Power Pack.\n",
      "Growth Pace: 10320.913105413105\n",
      "Examples: [{'name': 'VSCode Code Companion', 'url': 'https://chat.openai.com/g/g-WRte0yaJM-vscode-code-companion'}, {'name': 'Image Manager', 'url': 'https://marketplace.visualstudio.com/items?itemName=minko.image-manager'}, {'name': 'Vim Keymaps', 'url': 'https://marketplace.visualstudio.com/items?itemName=schillermann.vim-keymaps'}, {'name': 'C++ TAEFMate', 'url': 'https://marketplace.visualstudio.com/items?itemName=dpar39.vscode-taef-test-adapter'}, {'name': 'twinny - AI Code Completion and Chat', 'url': 'https://marketplace.visualstudio.com/items?itemName=rjmacarthy.twinny'}, {'name': 'Extension Auto Updater', 'url': 'https://marketplace.visualstudio.com/items?itemName=yangzhao.auto-updater'}, {'name': 'ChatGPT & GPT extension - kudos-gpt', 'url': 'https://marketplace.visualstudio.com/items?itemName=AkiraKudo.kudos-gpt'}]\n",
      "\n",
      "\n",
      "Cluster 7 - Summary:\n",
      "Title: \"Advanced Tool Integration Trends in Visual Studio Code for R and R Studio Programmers\"\n",
      "\n",
      "Description: Explore the latest trend in Visual Studio Code integration for R and R Studio users, where advanced tools and functionalities are revolutionizing the development workflow. From AI-powered error diagnosis and code edits to seamless connections with other platforms like Obsidian and QNX, this trend offers unparalleled support for programmers. Discover how extensions for debugging, test automation, and various scripting languages enhance the coding experience within the familiar Visual Studio Code environment. Stay ahead of the curve with innovative solutions like Datasonnet and Jsonnet debuggers, NVim emulation, and more, optimizing productivity and efficiency in your programming projects.\n",
      "Growth Pace: 63405.76404494382\n",
      "Examples: [{'name': 'R and R Studio Tutor', 'url': 'https://chat.openai.com/g/g-iedyANQtM-r-and-r-studio-tutor'}, {'name': 'Visual Studio Code Expert', 'url': 'https://chat.openai.com/g/g-FYMRmDqEY-visual-studio-code-expert'}, {'name': 'UnfoldAI', 'url': nan}, {'name': 'Helix For VS Code', 'url': 'https://marketplace.visualstudio.com/items?itemName=jasew.vscode-helix-emulation'}, {'name': 'TASKING winIDEA', 'url': 'https://marketplace.visualstudio.com/items?itemName=TASKING-winIDEA.TASKING-winIDEA'}, {'name': 'Obsidian MD for VSCode', 'url': 'https://marketplace.visualstudio.com/items?itemName=willasm.obsidian-md-vsc'}, {'name': 'QNX Toolkit', 'url': 'https://marketplace.visualstudio.com/items?itemName=qnx.qnx-vscode'}]\n",
      "\n",
      "\n",
      "Cluster 2 - Summary:\n",
      "Title: \"Enhancing Productivity with Browser Extensions: A Trend in Developer Tools and Salesforce Management\"\n",
      "\n",
      "Description: As developers and Salesforce administrators seek to optimize their workflows, the trend of utilizing free browser extensions is gaining momentum. From streamlining GitHub issue management with dedicated extensions to automatically pushing code to repositories upon solving Leetcode problems, these tools are proving to be invaluable. Furthermore, browser extensions such as Today I Learned facilitate easy documentation of new knowledge, while LeetHub simplifies GitHub interaction for Leetcode enthusiasts. Additionally, Python developers are benefiting from extension libraries tailored for data analysis and machine learning tasks. This trend also extends to Salesforce users, with dashboard packs for case tracking and starter packs for administrators becoming indispensable tools. As the demand for efficient productivity tools rises, the market for innovative browser extensions shows no signs of slowing down.\n",
      "Growth Pace: 112402.28\n",
      "Examples: [{'name': 'Jam.dev for GitHub', 'url': nan}, {'name': 'lancer-extension', 'url': nan}, {'name': 'TIL: Today I Learned', 'url': nan}, {'name': 'Leet Hub', 'url': nan}, {'name': 'mlxtend', 'url': 'https://github.com/rasbt/mlxtend'}, {'name': 'RSJ 3D Packer', 'url': 'https://workspace.google.com/marketplace/app/rsj_3d_packer/483180475230'}, {'name': 'Service & Support Dashboards', 'url': 'https://appexchange.salesforce.com/appxListingDetail?listingId=a0N300000016Z6kEAE'}]\n",
      "\n",
      "\n",
      "Cluster 5 - Summary:\n",
      "Title: Streamlined Shopify Theme Updates and Customization with Automated Tools\n",
      "\n",
      "Description: Ensure your Shopify theme is always up-to-date and secure with automated updates using Theme Updater Plus. Eliminate the hassle of manual updates and preserve your customizations effortlessly. Enhance your theme further with Live Theme Editor App, allowing easy modifications without impacting the theme structure. Safeguard your progress with ThemeWatch's automated daily backups and changes tracking feature. Plus, effortlessly add custom code to your store with ease, without requiring any programming knowledge. Upgrade your Shopify experience with these efficient tools designed to simplify theme management and customization.\n",
      "Growth Pace: 9443.608084358524\n",
      "Examples: [{'name': 'Theme Updater & Backups | OOTS', 'url': 'https://apps.shopify.com/theme-updater-by-out-of-the-sandbox'}, {'name': 'Live Theme Editor', 'url': 'https://apps.shopify.com/live-theme-editor'}, {'name': 'ThemeWatch ‑ Theme Backup Tool', 'url': 'https://apps.shopify.com/themewatch-changes-tracker-backup'}, {'name': 'Headify <Add Head Code>', 'url': 'https://apps.shopify.com/checkout-block'}, {'name': 'Headify <Add Head Code>', 'url': 'https://apps.shopify.com/checkout-block'}, {'name': 'ThemeWatch ‑ Theme Backup Tool', 'url': 'https://apps.shopify.com/themewatch-changes-tracker-backup'}, {'name': 'ThemeWatch ‑ Theme Backup Tool', 'url': 'https://apps.shopify.com/themewatch-changes-tracker-backup'}]\n",
      "\n",
      "\n"
     ]
    }
   ],
   "source": [
    "import json\n",
    "\n",
    "\n",
    "for trend in trend_summaries:\n",
    "    trend['cluster_id'] = int(trend['cluster_id']) \n",
    "    trend['growth_pace'] = float(trend['growth_pace']) \n",
    "    \n",
    "\n",
    "# Save the trend summaries to a JSON file\n",
    "with open('trend_summaries.json', 'w') as f:\n",
    "    json.dump(trend_summaries, f, indent=4)\n",
    "\n",
    "\n",
    "for trend in trend_summaries:\n",
    "    print(f\"Cluster {trend['cluster_id']} - Summary:\\n{trend['summary']}\")\n",
    "    print(f\"Growth Pace: {trend['growth_pace']}\")\n",
    "    print(f\"Examples: {trend['examples']}\")\n",
    "    print(\"\\n\")\n"
   ]
  },
  {
   "cell_type": "code",
   "execution_count": null,
   "metadata": {},
   "outputs": [],
   "source": []
  }
 ],
 "metadata": {
  "kernelspec": {
   "display_name": "base",
   "language": "python",
   "name": "python3"
  },
  "language_info": {
   "codemirror_mode": {
    "name": "ipython",
    "version": 3
   },
   "file_extension": ".py",
   "mimetype": "text/x-python",
   "name": "python",
   "nbconvert_exporter": "python",
   "pygments_lexer": "ipython3",
   "version": "3.10.12"
  }
 },
 "nbformat": 4,
 "nbformat_minor": 2
}
